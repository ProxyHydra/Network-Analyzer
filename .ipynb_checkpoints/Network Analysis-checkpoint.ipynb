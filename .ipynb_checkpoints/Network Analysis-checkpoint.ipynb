{
 "cells": [
  {
   "cell_type": "code",
   "execution_count": 151,
   "id": "ef8b59ab-4296-4aea-a86a-b925ddf1c5a2",
   "metadata": {},
   "outputs": [],
   "source": [
    "import pandas as pd\n",
    "import matplotlib.pyplot as plt\n",
    "import networkx as nx\n",
    "import geoip2.database"
   ]
  },
  {
   "cell_type": "code",
   "execution_count": 152,
   "id": "e6af586b-caac-45c1-83c1-1edf58339cdf",
   "metadata": {},
   "outputs": [],
   "source": [
    "CapURL=\"C:\\\\Users\\\\Aadith Sukumar\\\\Desktop\\\\CyberSec Project\\\\Network Analyzer\\\\WSTrialCapture.csv\""
   ]
  },
  {
   "cell_type": "code",
   "execution_count": 153,
   "id": "a17a3aa0-9929-42c4-82b9-1ee734b11201",
   "metadata": {},
   "outputs": [
    {
     "data": {
      "text/html": [
       "<div>\n",
       "<style scoped>\n",
       "    .dataframe tbody tr th:only-of-type {\n",
       "        vertical-align: middle;\n",
       "    }\n",
       "\n",
       "    .dataframe tbody tr th {\n",
       "        vertical-align: top;\n",
       "    }\n",
       "\n",
       "    .dataframe thead th {\n",
       "        text-align: right;\n",
       "    }\n",
       "</style>\n",
       "<table border=\"1\" class=\"dataframe\">\n",
       "  <thead>\n",
       "    <tr style=\"text-align: right;\">\n",
       "      <th></th>\n",
       "      <th>No.</th>\n",
       "      <th>Time</th>\n",
       "      <th>Source</th>\n",
       "      <th>Destination</th>\n",
       "      <th>Protocol</th>\n",
       "      <th>Length</th>\n",
       "      <th>Info</th>\n",
       "    </tr>\n",
       "  </thead>\n",
       "  <tbody>\n",
       "    <tr>\n",
       "      <th>0</th>\n",
       "      <td>1</td>\n",
       "      <td>0.000000</td>\n",
       "      <td>192.168.1.21</td>\n",
       "      <td>172.64.155.188</td>\n",
       "      <td>TCP</td>\n",
       "      <td>55</td>\n",
       "      <td>10660  &gt;  80 [ACK] Seq=1 Ack=1 Win=512 Len=1</td>\n",
       "    </tr>\n",
       "    <tr>\n",
       "      <th>1</th>\n",
       "      <td>2</td>\n",
       "      <td>0.000200</td>\n",
       "      <td>192.168.1.21</td>\n",
       "      <td>172.64.155.188</td>\n",
       "      <td>TCP</td>\n",
       "      <td>55</td>\n",
       "      <td>10677  &gt;  80 [ACK] Seq=1 Ack=1 Win=516 Len=1</td>\n",
       "    </tr>\n",
       "    <tr>\n",
       "      <th>2</th>\n",
       "      <td>3</td>\n",
       "      <td>0.004170</td>\n",
       "      <td>172.64.155.188</td>\n",
       "      <td>192.168.1.21</td>\n",
       "      <td>TCP</td>\n",
       "      <td>66</td>\n",
       "      <td>80  &gt;  10660 [ACK] Seq=1 Ack=2 Win=64 Len=0 SL...</td>\n",
       "    </tr>\n",
       "    <tr>\n",
       "      <th>3</th>\n",
       "      <td>4</td>\n",
       "      <td>0.004170</td>\n",
       "      <td>172.64.155.188</td>\n",
       "      <td>192.168.1.21</td>\n",
       "      <td>TCP</td>\n",
       "      <td>66</td>\n",
       "      <td>80  &gt;  10677 [ACK] Seq=1 Ack=2 Win=62 Len=0 SL...</td>\n",
       "    </tr>\n",
       "    <tr>\n",
       "      <th>4</th>\n",
       "      <td>5</td>\n",
       "      <td>0.207930</td>\n",
       "      <td>192.168.1.21</td>\n",
       "      <td>108.159.1.92</td>\n",
       "      <td>TCP</td>\n",
       "      <td>55</td>\n",
       "      <td>10690  &gt;  443 [ACK] Seq=1 Ack=1 Win=517 Len=1 ...</td>\n",
       "    </tr>\n",
       "    <tr>\n",
       "      <th>5</th>\n",
       "      <td>6</td>\n",
       "      <td>0.217748</td>\n",
       "      <td>108.159.1.92</td>\n",
       "      <td>192.168.1.21</td>\n",
       "      <td>TCP</td>\n",
       "      <td>66</td>\n",
       "      <td>443  &gt;  10690 [ACK] Seq=1 Ack=2 Win=133 Len=0 ...</td>\n",
       "    </tr>\n",
       "    <tr>\n",
       "      <th>6</th>\n",
       "      <td>7</td>\n",
       "      <td>0.277697</td>\n",
       "      <td>192.168.1.21</td>\n",
       "      <td>239.255.255.250</td>\n",
       "      <td>SSDP</td>\n",
       "      <td>217</td>\n",
       "      <td>M-SEARCH * HTTP/1.1</td>\n",
       "    </tr>\n",
       "    <tr>\n",
       "      <th>7</th>\n",
       "      <td>8</td>\n",
       "      <td>0.359750</td>\n",
       "      <td>192.168.1.5</td>\n",
       "      <td>192.168.1.21</td>\n",
       "      <td>UDP</td>\n",
       "      <td>556</td>\n",
       "      <td>48533  &gt;  63999 Len=514</td>\n",
       "    </tr>\n",
       "    <tr>\n",
       "      <th>8</th>\n",
       "      <td>9</td>\n",
       "      <td>0.843838</td>\n",
       "      <td>192.168.1.21</td>\n",
       "      <td>192.168.1.5</td>\n",
       "      <td>TCP</td>\n",
       "      <td>164</td>\n",
       "      <td>19856  &gt;  8009 [PSH, ACK] Seq=1 Ack=1 Win=507 ...</td>\n",
       "    </tr>\n",
       "    <tr>\n",
       "      <th>9</th>\n",
       "      <td>10</td>\n",
       "      <td>0.843838</td>\n",
       "      <td>192.168.1.21</td>\n",
       "      <td>192.168.1.5</td>\n",
       "      <td>TCP</td>\n",
       "      <td>164</td>\n",
       "      <td>20064  &gt;  8009 [PSH, ACK] Seq=1 Ack=1 Win=513 ...</td>\n",
       "    </tr>\n",
       "  </tbody>\n",
       "</table>\n",
       "</div>"
      ],
      "text/plain": [
       "   No.      Time          Source      Destination Protocol  Length  \\\n",
       "0    1  0.000000    192.168.1.21   172.64.155.188      TCP      55   \n",
       "1    2  0.000200    192.168.1.21   172.64.155.188      TCP      55   \n",
       "2    3  0.004170  172.64.155.188     192.168.1.21      TCP      66   \n",
       "3    4  0.004170  172.64.155.188     192.168.1.21      TCP      66   \n",
       "4    5  0.207930    192.168.1.21     108.159.1.92      TCP      55   \n",
       "5    6  0.217748    108.159.1.92     192.168.1.21      TCP      66   \n",
       "6    7  0.277697    192.168.1.21  239.255.255.250     SSDP     217   \n",
       "7    8  0.359750     192.168.1.5     192.168.1.21      UDP     556   \n",
       "8    9  0.843838    192.168.1.21      192.168.1.5      TCP     164   \n",
       "9   10  0.843838    192.168.1.21      192.168.1.5      TCP     164   \n",
       "\n",
       "                                                Info  \n",
       "0       10660  >  80 [ACK] Seq=1 Ack=1 Win=512 Len=1  \n",
       "1       10677  >  80 [ACK] Seq=1 Ack=1 Win=516 Len=1  \n",
       "2  80  >  10660 [ACK] Seq=1 Ack=2 Win=64 Len=0 SL...  \n",
       "3  80  >  10677 [ACK] Seq=1 Ack=2 Win=62 Len=0 SL...  \n",
       "4  10690  >  443 [ACK] Seq=1 Ack=1 Win=517 Len=1 ...  \n",
       "5  443  >  10690 [ACK] Seq=1 Ack=2 Win=133 Len=0 ...  \n",
       "6                               M-SEARCH * HTTP/1.1   \n",
       "7                            48533  >  63999 Len=514  \n",
       "8  19856  >  8009 [PSH, ACK] Seq=1 Ack=1 Win=507 ...  \n",
       "9  20064  >  8009 [PSH, ACK] Seq=1 Ack=1 Win=513 ...  "
      ]
     },
     "execution_count": 153,
     "metadata": {},
     "output_type": "execute_result"
    }
   ],
   "source": [
    "CapData=pd.read_csv(CapURL)\n",
    "CapData.head(10)"
   ]
  },
  {
   "cell_type": "code",
   "execution_count": 154,
   "id": "015511d3-c877-4ae6-adb1-6ba019b0a5c7",
   "metadata": {},
   "outputs": [
    {
     "data": {
      "text/plain": [
       "Source\n",
       "108.159.1.92       2\n",
       "157.240.192.52     2\n",
       "172.64.155.188     5\n",
       "192.168.1.5        8\n",
       "192.168.1.21      23\n",
       "Name: Source, dtype: int64"
      ]
     },
     "execution_count": 154,
     "metadata": {},
     "output_type": "execute_result"
    }
   ],
   "source": [
    "#Taking a look at “sources” reveals which devices had the least/most number of communications\n",
    "\n",
    "sources=CapData.groupby(\"Source\").Source.count()\n",
    "sources.sort_values()"
   ]
  },
  {
   "cell_type": "code",
   "execution_count": 155,
   "id": "d7b45bd0-872b-4902-baf6-608870f01814",
   "metadata": {},
   "outputs": [
    {
     "data": {
      "text/plain": [
       "Destination\n",
       "108.159.1.92        2\n",
       "117.18.232.200      2\n",
       "157.240.192.52      2\n",
       "239.255.255.250     4\n",
       "172.64.155.188      5\n",
       "192.168.1.5         8\n",
       "192.168.1.21       17\n",
       "Name: Destination, dtype: int64"
      ]
     },
     "execution_count": 155,
     "metadata": {},
     "output_type": "execute_result"
    }
   ],
   "source": [
    "\n",
    "dest=CapData.groupby(\"Destination\").Destination.count()\n",
    "dest.sort_values()"
   ]
  },
  {
   "cell_type": "code",
   "execution_count": 156,
   "id": "0986191d-6dfe-45df-98c3-c28aca8b7d9c",
   "metadata": {},
   "outputs": [
    {
     "data": {
      "text/plain": [
       "Protocol\n",
       "TLSv1.2     2\n",
       "SSDP        4\n",
       "UDP         4\n",
       "TCP        30\n",
       "Name: Protocol, dtype: int64"
      ]
     },
     "execution_count": 156,
     "metadata": {},
     "output_type": "execute_result"
    }
   ],
   "source": [
    "#If you investigate “protocols”, you’ll see a few HTTP types of communications. \n",
    "#As a security professional, you know that means information communicated is not encrypted. \n",
    "#Meaning, anyone can read it, so hopefully, there was nothing confidential!\n",
    "\n",
    "protocol=CapData.groupby(\"Protocol\").Protocol.count()\n",
    "protocol.sort_values()"
   ]
  },
  {
   "cell_type": "markdown",
   "id": "e62e32b2-9387-4a95-9ebe-5ebb02678545",
   "metadata": {},
   "source": [
    "</n><b>** build node graphs that represent a type of communication **</b>"
   ]
  },
  {
   "cell_type": "code",
   "execution_count": 157,
   "id": "7024e252-475f-4677-a8c7-617af8bfc610",
   "metadata": {},
   "outputs": [
    {
     "data": {
      "text/plain": [
       "NodeView(('192.168.1.21', '172.64.155.188', '108.159.1.92', '239.255.255.250', '192.168.1.5', '117.18.232.200', '157.240.192.52'))"
      ]
     },
     "execution_count": 157,
     "metadata": {},
     "output_type": "execute_result"
    }
   ],
   "source": [
    "network = nx.from_pandas_edgelist(CapData, source=\"Source\", target=\"Destination\", edge_attr=True)\n",
    "network.nodes()"
   ]
  },
  {
   "cell_type": "code",
   "execution_count": 158,
   "id": "0dd6f87c-9397-4103-a8c1-742ab3a885db",
   "metadata": {},
   "outputs": [
    {
     "data": {
      "text/plain": [
       "EdgeView([('192.168.1.21', '172.64.155.188'), ('192.168.1.21', '108.159.1.92'), ('192.168.1.21', '239.255.255.250'), ('192.168.1.21', '192.168.1.5'), ('192.168.1.21', '117.18.232.200'), ('192.168.1.21', '157.240.192.52')])"
      ]
     },
     "execution_count": 158,
     "metadata": {},
     "output_type": "execute_result"
    }
   ],
   "source": [
    "network.edges()"
   ]
  },
  {
   "cell_type": "code",
   "execution_count": 159,
   "id": "d80271c2-b8b4-4100-ba66-79d2cf806dc7",
   "metadata": {},
   "outputs": [
    {
     "data": {
      "image/png": "[encoded data removed]",
      "text/plain": [
       "<Figure size 432x288 with 1 Axes>"
      ]
     },
     "metadata": {},
     "output_type": "display_data"
    }
   ],
   "source": [
    "#display a network map based on the traffic\n",
    "nx.draw_circular(network, with_labels=True)"
   ]
  },
  {
   "cell_type": "code",
   "execution_count": 160,
   "id": "f23fb6f9-b39a-44d0-9a5e-34b431324582",
   "metadata": {},
   "outputs": [
    {
     "data": {
      "image/png": "[encoded data removed]",
      "text/plain": [
       "<Figure size 432x288 with 1 Axes>"
      ]
     },
     "metadata": {},
     "output_type": "display_data"
    }
   ],
   "source": [
    "#create a color-coded map showing us which devices the malicious device communicated with.\n",
    "\n",
    "suspect = \"192.168.1.5\"\n",
    "pos=nx.spring_layout(network)\n",
    "nx.draw(network, pos, node_color=\"green\", node_size=300, with_labels=True)\n",
    "\n",
    "options = {\"node_size\":1000, \"node_color\":\"r\"}\n",
    "nx.draw_networkx_nodes(network, pos, nodelist=[suspect],**options)\n",
    "plt.show()"
   ]
  },
  {
   "cell_type": "code",
   "execution_count": 161,
   "id": "b0e5a392-ac17-4f25-a20c-04f02a232640",
   "metadata": {},
   "outputs": [
    {
     "data": {
      "text/html": [
       "<div>\n",
       "<style scoped>\n",
       "    .dataframe tbody tr th:only-of-type {\n",
       "        vertical-align: middle;\n",
       "    }\n",
       "\n",
       "    .dataframe tbody tr th {\n",
       "        vertical-align: top;\n",
       "    }\n",
       "\n",
       "    .dataframe thead th {\n",
       "        text-align: right;\n",
       "    }\n",
       "</style>\n",
       "<table border=\"1\" class=\"dataframe\">\n",
       "  <thead>\n",
       "    <tr style=\"text-align: right;\">\n",
       "      <th></th>\n",
       "      <th>No.</th>\n",
       "      <th>Time</th>\n",
       "      <th>Source</th>\n",
       "      <th>Destination</th>\n",
       "      <th>Protocol</th>\n",
       "      <th>Length</th>\n",
       "      <th>Info</th>\n",
       "    </tr>\n",
       "  </thead>\n",
       "  <tbody>\n",
       "    <tr>\n",
       "      <th>7</th>\n",
       "      <td>8</td>\n",
       "      <td>0.359750</td>\n",
       "      <td>192.168.1.5</td>\n",
       "      <td>192.168.1.21</td>\n",
       "      <td>UDP</td>\n",
       "      <td>556</td>\n",
       "      <td>48533  &gt;  63999 Len=514</td>\n",
       "    </tr>\n",
       "    <tr>\n",
       "      <th>10</th>\n",
       "      <td>11</td>\n",
       "      <td>0.855388</td>\n",
       "      <td>192.168.1.5</td>\n",
       "      <td>192.168.1.21</td>\n",
       "      <td>TCP</td>\n",
       "      <td>164</td>\n",
       "      <td>8009  &gt;  19856 [PSH, ACK] Seq=1 Ack=111 Win=14...</td>\n",
       "    </tr>\n",
       "    <tr>\n",
       "      <th>11</th>\n",
       "      <td>12</td>\n",
       "      <td>0.855388</td>\n",
       "      <td>192.168.1.5</td>\n",
       "      <td>192.168.1.21</td>\n",
       "      <td>TCP</td>\n",
       "      <td>164</td>\n",
       "      <td>8009  &gt;  20064 [PSH, ACK] Seq=1 Ack=111 Win=14...</td>\n",
       "    </tr>\n",
       "    <tr>\n",
       "      <th>17</th>\n",
       "      <td>18</td>\n",
       "      <td>1.372092</td>\n",
       "      <td>192.168.1.5</td>\n",
       "      <td>192.168.1.21</td>\n",
       "      <td>UDP</td>\n",
       "      <td>556</td>\n",
       "      <td>42514  &gt;  63999 Len=514</td>\n",
       "    </tr>\n",
       "    <tr>\n",
       "      <th>21</th>\n",
       "      <td>22</td>\n",
       "      <td>2.400934</td>\n",
       "      <td>192.168.1.5</td>\n",
       "      <td>192.168.1.21</td>\n",
       "      <td>UDP</td>\n",
       "      <td>556</td>\n",
       "      <td>58637  &gt;  63999 Len=514</td>\n",
       "    </tr>\n",
       "    <tr>\n",
       "      <th>23</th>\n",
       "      <td>24</td>\n",
       "      <td>3.422164</td>\n",
       "      <td>192.168.1.5</td>\n",
       "      <td>192.168.1.21</td>\n",
       "      <td>UDP</td>\n",
       "      <td>556</td>\n",
       "      <td>51939  &gt;  63999 Len=514</td>\n",
       "    </tr>\n",
       "    <tr>\n",
       "      <th>36</th>\n",
       "      <td>37</td>\n",
       "      <td>5.867824</td>\n",
       "      <td>192.168.1.5</td>\n",
       "      <td>192.168.1.21</td>\n",
       "      <td>TCP</td>\n",
       "      <td>164</td>\n",
       "      <td>8009  &gt;  20064 [PSH, ACK] Seq=111 Ack=221 Win=...</td>\n",
       "    </tr>\n",
       "    <tr>\n",
       "      <th>37</th>\n",
       "      <td>38</td>\n",
       "      <td>5.868432</td>\n",
       "      <td>192.168.1.5</td>\n",
       "      <td>192.168.1.21</td>\n",
       "      <td>TCP</td>\n",
       "      <td>164</td>\n",
       "      <td>8009  &gt;  19856 [PSH, ACK] Seq=111 Ack=221 Win=...</td>\n",
       "    </tr>\n",
       "  </tbody>\n",
       "</table>\n",
       "</div>"
      ],
      "text/plain": [
       "    No.      Time       Source   Destination Protocol  Length  \\\n",
       "7     8  0.359750  192.168.1.5  192.168.1.21      UDP     556   \n",
       "10   11  0.855388  192.168.1.5  192.168.1.21      TCP     164   \n",
       "11   12  0.855388  192.168.1.5  192.168.1.21      TCP     164   \n",
       "17   18  1.372092  192.168.1.5  192.168.1.21      UDP     556   \n",
       "21   22  2.400934  192.168.1.5  192.168.1.21      UDP     556   \n",
       "23   24  3.422164  192.168.1.5  192.168.1.21      UDP     556   \n",
       "36   37  5.867824  192.168.1.5  192.168.1.21      TCP     164   \n",
       "37   38  5.868432  192.168.1.5  192.168.1.21      TCP     164   \n",
       "\n",
       "                                                 Info  \n",
       "7                             48533  >  63999 Len=514  \n",
       "10  8009  >  19856 [PSH, ACK] Seq=1 Ack=111 Win=14...  \n",
       "11  8009  >  20064 [PSH, ACK] Seq=1 Ack=111 Win=14...  \n",
       "17                            42514  >  63999 Len=514  \n",
       "21                            58637  >  63999 Len=514  \n",
       "23                            51939  >  63999 Len=514  \n",
       "36  8009  >  20064 [PSH, ACK] Seq=111 Ack=221 Win=...  \n",
       "37  8009  >  19856 [PSH, ACK] Seq=111 Ack=221 Win=...  "
      ]
     },
     "execution_count": 161,
     "metadata": {},
     "output_type": "execute_result"
    }
   ],
   "source": [
    "#Seeing captured information of suspect flag address\n",
    "\n",
    "CapData.loc[CapData[\"Source\"]==\"192.168.1.5\"]"
   ]
  },
  {
   "cell_type": "markdown",
   "id": "db7d104f-7579-48bb-a06a-2f5e44410731",
   "metadata": {},
   "source": [
    "<h4>GeoIP2 and finding location</h4>"
   ]
  },
  {
   "cell_type": "code",
   "execution_count": 162,
   "id": "b7fe78a5-3eb9-4429-9248-b3abeab8efc9",
   "metadata": {},
   "outputs": [
    {
     "data": {
      "text/plain": [
       "'United States'"
      ]
     },
     "execution_count": 162,
     "metadata": {},
     "output_type": "execute_result"
    }
   ],
   "source": [
    "#IF ADDRESS NOT FOUND ERROR --> they are reserved IPs \n",
    "\n",
    "reader = geoip2.database.Reader(\"C:\\\\Users\\\\Aadith Sukumar\\\\Desktop\\\\CyberSec Project\\\\Network Analyzer\\\\GeoLite2-Country.mmdb\")\n",
    "response = reader.country(\"128.101.101.101\")\n",
    "response.country.name"
   ]
  }
 ],
 "metadata": {
  "kernelspec": {
   "display_name": "Python 3 (ipykernel)",
   "language": "python",
   "name": "python3"
  },
  "language_info": {
   "codemirror_mode": {
    "name": "ipython",
    "version": 3
   },
   "file_extension": ".py",
   "mimetype": "text/x-python",
   "name": "python",
   "nbconvert_exporter": "python",
   "pygments_lexer": "ipython3",
   "version": "3.9.10"
  }
 },
 "nbformat": 4,
 "nbformat_minor": 5
}
